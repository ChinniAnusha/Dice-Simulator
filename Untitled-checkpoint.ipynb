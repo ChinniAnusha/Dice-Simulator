{
 "cells": [
  {
   "cell_type": "code",
   "execution_count": 2,
   "id": "1e7ac3a8",
   "metadata": {},
   "outputs": [
    {
     "data": {
      "application/vnd.jupyter.widget-view+json": {
       "model_id": "811aca7ad6f140649ba97c34d6e993aa",
       "version_major": 2,
       "version_minor": 0
      },
      "text/plain": [
       "Button(button_style='success', description='Roll Dice 🎲', style=ButtonStyle())"
      ]
     },
     "metadata": {},
     "output_type": "display_data"
    },
    {
     "data": {
      "application/vnd.jupyter.widget-view+json": {
       "model_id": "6be55c36a6114656b92f06379a9aa850",
       "version_major": 2,
       "version_minor": 0
      },
      "text/plain": [
       "Output()"
      ]
     },
     "metadata": {},
     "output_type": "display_data"
    }
   ],
   "source": [
    "import random\n",
    "from IPython.display import display, Image, clear_output\n",
    "import ipywidgets as widgets\n",
    "import os\n",
    "import urllib.request\n",
    "\n",
    "# Download dice images if not already available\n",
    "dice_urls = {\n",
    "    1: \"https://upload.wikimedia.org/wikipedia/commons/thumb/1/1b/Dice-1-b.svg/150px-Dice-1-b.svg.png\",\n",
    "    2: \"https://upload.wikimedia.org/wikipedia/commons/thumb/5/5f/Dice-2-b.svg/150px-Dice-2-b.svg.png\",\n",
    "    3: \"https://upload.wikimedia.org/wikipedia/commons/thumb/b/b1/Dice-3-b.svg/150px-Dice-3-b.svg.png\",\n",
    "    4: \"https://upload.wikimedia.org/wikipedia/commons/thumb/f/fd/Dice-4-b.svg/150px-Dice-4-b.svg.png\",\n",
    "    5: \"https://upload.wikimedia.org/wikipedia/commons/thumb/0/08/Dice-5-b.svg/150px-Dice-5-b.svg.png\",\n",
    "    6: \"https://upload.wikimedia.org/wikipedia/commons/thumb/2/26/Dice-6-b.svg/150px-Dice-6-b.svg.png\"\n",
    "}\n",
    "\n",
    "for i in range(1, 7):\n",
    "    filename = f'dice{i}.png'\n",
    "    if not os.path.exists(filename):\n",
    "        urllib.request.urlretrieve(dice_urls[i], filename)\n",
    "\n",
    "# Create the button and output area once\n",
    "button = widgets.Button(description=\"Roll Dice 🎲\", button_style='success')\n",
    "output = widgets.Output()\n",
    "\n",
    "# Function to roll dice\n",
    "def roll_dice(b):\n",
    "    with output:\n",
    "        clear_output(wait=True)\n",
    "        num = random.randint(1, 6)\n",
    "        display(Image(filename=f'dice{num}.png', width=150))\n",
    "\n",
    "# Attach handler\n",
    "button.on_click(roll_dice)\n",
    "\n",
    "# Display UI\n",
    "display(button, output)\n"
   ]
  },
  {
   "cell_type": "code",
   "execution_count": null,
   "id": "4ee8aa67",
   "metadata": {},
   "outputs": [],
   "source": []
  }
 ],
 "metadata": {
  "kernelspec": {
   "display_name": "Python 3 (ipykernel)",
   "language": "python",
   "name": "python3"
  },
  "language_info": {
   "codemirror_mode": {
    "name": "ipython",
    "version": 3
   },
   "file_extension": ".py",
   "mimetype": "text/x-python",
   "name": "python",
   "nbconvert_exporter": "python",
   "pygments_lexer": "ipython3",
   "version": "3.11.5"
  }
 },
 "nbformat": 4,
 "nbformat_minor": 5
}
